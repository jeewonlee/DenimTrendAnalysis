{
 "cells": [
  {
   "cell_type": "code",
   "execution_count": 6,
   "metadata": {
    "collapsed": true
   },
   "outputs": [],
   "source": [
    "import pandas as pd\n",
    "import numpy as np\n",
    "import matplotlib.pyplot as plt\n",
    "import seaborn as sns\n",
    "import plotly.plotly as py\n",
    "import plotly.graph_objs as go\n",
    "%matplotlib inline"
   ]
  },
  {
   "cell_type": "code",
   "execution_count": 7,
   "metadata": {
    "collapsed": false,
    "scrolled": true
   },
   "outputs": [],
   "source": [
    "df = pd.read_csv('../../data/Shopstyle/jeans_data.csv')\n",
    "#df.rename(columns={\" brand_name\":\"brand_name\"})\n",
    "most = df[' brand_name'].value_counts().head(10).to_frame()"
   ]
  },
  {
   "cell_type": "code",
   "execution_count": 26,
   "metadata": {
    "collapsed": false
   },
   "outputs": [],
   "source": [
    "temp = df[' brand_name'].value_counts().to_frame()\n",
    "temp.columns=['counts']"
   ]
  },
  {
   "cell_type": "code",
   "execution_count": 29,
   "metadata": {
    "collapsed": false
   },
   "outputs": [
    {
     "data": {
      "text/plain": [
       "counts    47644\n",
       "dtype: int64"
      ]
     },
     "execution_count": 29,
     "metadata": {},
     "output_type": "execute_result"
    }
   ],
   "source": [
    "temp[temp['counts']<1718].sum()"
   ]
  },
  {
   "cell_type": "code",
   "execution_count": 31,
   "metadata": {
    "collapsed": false
   },
   "outputs": [
    {
     "data": {
      "text/plain": [
       "brand    16645\n",
       "dtype: int64"
      ]
     },
     "execution_count": 31,
     "metadata": {},
     "output_type": "execute_result"
    }
   ],
   "source": [
    "most.sum()"
   ]
  },
  {
   "cell_type": "code",
   "execution_count": 37,
   "metadata": {
    "collapsed": false
   },
   "outputs": [
    {
     "data": {
      "text/html": [
       "<iframe id=\"igraph\" scrolling=\"no\" style=\"border:none;\" seamless=\"seamless\" src=\"https://plot.ly/~forsummer/18.embed\" height=\"525px\" width=\"100%\"></iframe>"
      ],
      "text/plain": [
       "<plotly.tools.PlotlyDisplay object>"
      ]
     },
     "execution_count": 37,
     "metadata": {},
     "output_type": "execute_result"
    }
   ],
   "source": [
    "most = df[' brand_name'].value_counts().head(7).to_frame()\n",
    "most.columns=['brand']\n",
    "labels = most.index\n",
    "values = most.brand\n",
    "trace=go.Pie(labels=labels,values=values)\n",
    "py.iplot([trace])"
   ]
  },
  {
   "cell_type": "code",
   "execution_count": 32,
   "metadata": {
    "collapsed": true
   },
   "outputs": [],
   "source": [
    "def plot_price(df):\n",
    "    #sns.set_style(\"darkgrid\")\n",
    "    sns.boxplot(\"price\", data=df)\n",
    "    plt.show()"
   ]
  },
  {
   "cell_type": "code",
   "execution_count": 52,
   "metadata": {
    "collapsed": false
   },
   "outputs": [],
   "source": [
    "temp = df[df['price']<300]"
   ]
  },
  {
   "cell_type": "code",
   "execution_count": 45,
   "metadata": {
    "collapsed": false
   },
   "outputs": [
    {
     "data": {
      "text/plain": [
       "count    74400.000000\n",
       "mean       170.686538\n",
       "std        218.573311\n",
       "min          7.900000\n",
       "25%         69.000000\n",
       "50%        138.000000\n",
       "75%        215.000000\n",
       "max       5250.000000\n",
       "Name: price, dtype: float64"
      ]
     },
     "execution_count": 45,
     "metadata": {},
     "output_type": "execute_result"
    }
   ],
   "source": [
    "df.price.describe()"
   ]
  },
  {
   "cell_type": "code",
   "execution_count": 53,
   "metadata": {
    "collapsed": false
   },
   "outputs": [
    {
     "data": {
      "text/plain": [
       "<matplotlib.axes._subplots.AxesSubplot at 0x1261f9190>"
      ]
     },
     "execution_count": 53,
     "metadata": {},
     "output_type": "execute_result"
    },
    {
     "data": {
      "image/png": "[encoded data removed]",
      "text/plain": [
       "<matplotlib.figure.Figure at 0x1263bc850>"
      ]
     },
     "metadata": {},
     "output_type": "display_data"
    }
   ],
   "source": [
    "temp.price.hist(bins=100)"
   ]
  },
  {
   "cell_type": "code",
   "execution_count": 54,
   "metadata": {
    "collapsed": true
   },
   "outputs": [],
   "source": [
    "expensive = df[df['price']>300]"
   ]
  },
  {
   "cell_type": "code",
   "execution_count": 57,
   "metadata": {
    "collapsed": false
   },
   "outputs": [
    {
     "data": {
      "text/plain": [
       "<matplotlib.axes._subplots.AxesSubplot at 0x126b08a90>"
      ]
     },
     "execution_count": 57,
     "metadata": {},
     "output_type": "execute_result"
    },
    {
     "data": {
      "image/png": "[encoded data removed]",
      "text/plain": [
       "<matplotlib.figure.Figure at 0x126a8ab90>"
      ]
     },
     "metadata": {},
     "output_type": "display_data"
    }
   ],
   "source": [
    "expensive.price.hist(bins=100)"
   ]
  },
  {
   "cell_type": "code",
   "execution_count": 9,
   "metadata": {
    "collapsed": false
   },
   "outputs": [],
   "source": [
    "def most_distributed(df):\n",
    "    most = df[' brand_name'].value_counts().head(10).to_frame()\n",
    "    most.columns=['brand']\n",
    "    labels = most.index\n",
    "    values = most.brand\n",
    "    trace=go.Pie(labels=labels,values=values)\n",
    "    py.iplot([trace])"
   ]
  },
  {
   "cell_type": "code",
   "execution_count": 10,
   "metadata": {
    "collapsed": false
   },
   "outputs": [],
   "source": [
    "most_distributed(df)"
   ]
  },
  {
   "cell_type": "code",
   "execution_count": 12,
   "metadata": {
    "collapsed": false
   },
   "outputs": [
    {
     "data": {
      "text/html": [
       "<iframe id=\"igraph\" scrolling=\"no\" style=\"border:none;\" seamless=\"seamless\" src=\"https://plot.ly/~forsummer/12.embed\" height=\"525px\" width=\"100%\"></iframe>"
      ],
      "text/plain": [
       "<plotly.tools.PlotlyDisplay object>"
      ]
     },
     "execution_count": 12,
     "metadata": {},
     "output_type": "execute_result"
    }
   ],
   "source": [
    "import plotly.plotly as py\n",
    "import plotly.graph_objs as go\n",
    "\n",
    "fig = {\n",
    "    'data': [{'labels': ['Residential', 'Non-Residential', 'Utility'],\n",
    "              'values': [19, 26, 55],\n",
    "              'type': 'pie'}],\n",
    "    'layout': {'title': 'Forcasted 2014 U.S. PV Installations by Market Segment'}\n",
    "     }\n",
    "\n",
    "py.iplot(fig)\n"
   ]
  },
  {
   "cell_type": "code",
   "execution_count": 32,
   "metadata": {
    "collapsed": false
   },
   "outputs": [
    {
     "data": {
      "text/plain": [
       "0                       Frame\n",
       "1                     Topshop\n",
       "2             Current/Elliott\n",
       "3                    Old Navy\n",
       "4                     RE/DONE\n",
       "5                      Levi's\n",
       "6                       Frame\n",
       "7                  Rag & Bone\n",
       "8        Citizens of Humanity\n",
       "9                      Levi's\n",
       "10                     J.Crew\n",
       "11                        3x1\n",
       "12                     Mother\n",
       "13                     Levi's\n",
       "14                     Levi's\n",
       "15                        BDG\n",
       "16              Good American\n",
       "17                     Levi's\n",
       "18                     J.Crew\n",
       "19                        H&M\n",
       "20                      Paige\n",
       "21         KUT from the Kloth\n",
       "22                         BP\n",
       "23                    Topshop\n",
       "24                 Rag & Bone\n",
       "25                        H&M\n",
       "26                  Blank NYC\n",
       "27                    J Brand\n",
       "28                     Levi's\n",
       "29                        BDG\n",
       "                 ...         \n",
       "74370                  DL1961\n",
       "74371       7 For All Mankind\n",
       "74372                  Dittos\n",
       "74373                  Levi's\n",
       "74374                 Athleta\n",
       "74375                Old Navy\n",
       "74376                Old Navy\n",
       "74377                  Liu Jo\n",
       "74378               DSQUARED2\n",
       "74379                 Balmain\n",
       "74380           Eileen Fisher\n",
       "74381    Citizens of Humanity\n",
       "74382    Citizens of Humanity\n",
       "74383                  Mother\n",
       "74384            Acne Studios\n",
       "74385            Acne Studios\n",
       "74386                   Ksubi\n",
       "74387           True Religion\n",
       "74388           True Religion\n",
       "74389                 RE/DONE\n",
       "74390           Flying Monkey\n",
       "74391         Rebecca Minkoff\n",
       "74392                     H&M\n",
       "74393                     H&M\n",
       "74394                     H&M\n",
       "74395                Madewell\n",
       "74396                 J Brand\n",
       "74397         Current/Elliott\n",
       "74398                    NYDJ\n",
       "74399           True Religion\n",
       "Name:  brand_name, dtype: object"
      ]
     },
     "execution_count": 32,
     "metadata": {},
     "output_type": "execute_result"
    }
   ],
   "source": [
    "df[' brand_name']"
   ]
  },
  {
   "cell_type": "code",
   "execution_count": 1,
   "metadata": {
    "collapsed": false
   },
   "outputs": [
    {
     "data": {
      "text/plain": [
       "'1.12.9'"
      ]
     },
     "execution_count": 1,
     "metadata": {},
     "output_type": "execute_result"
    }
   ],
   "source": [
    "import plotly\n",
    "plotly.__version__"
   ]
  },
  {
   "cell_type": "code",
   "execution_count": 3,
   "metadata": {
    "collapsed": false
   },
   "outputs": [],
   "source": [
    "def most_distributed(df):\n",
    "    most = df[' brand_name'].value_counts().head(10).to_frame()\n",
    "    most.columns=['brand']\n",
    "    labels = most.index\n",
    "    values = most.brand\n",
    "    trace=go.Pie(labels=labels,values=values)\n",
    "    py.iplot([trace])"
   ]
  },
  {
   "cell_type": "code",
   "execution_count": 4,
   "metadata": {
    "collapsed": false
   },
   "outputs": [
    {
     "ename": "NameError",
     "evalue": "name 'df' is not defined",
     "output_type": "error",
     "traceback": [
      "\u001b[0;31m---------------------------------------------------------------------------\u001b[0m",
      "\u001b[0;31mNameError\u001b[0m                                 Traceback (most recent call last)",
      "\u001b[0;32m<ipython-input-4-55baf81b3210>\u001b[0m in \u001b[0;36m<module>\u001b[0;34m()\u001b[0m\n\u001b[0;32m----> 1\u001b[0;31m \u001b[0mmost_distributed\u001b[0m\u001b[0;34m(\u001b[0m\u001b[0mdf\u001b[0m\u001b[0;34m)\u001b[0m\u001b[0;34m\u001b[0m\u001b[0m\n\u001b[0m",
      "\u001b[0;31mNameError\u001b[0m: name 'df' is not defined"
     ]
    }
   ],
   "source": [
    "most_distributed(df)"
   ]
  },
  {
   "cell_type": "code",
   "execution_count": null,
   "metadata": {
    "collapsed": true
   },
   "outputs": [],
   "source": []
  }
 ],
 "metadata": {
  "anaconda-cloud": {},
  "kernelspec": {
   "display_name": "Python [Root]",
   "language": "python",
   "name": "Python [Root]"
  },
  "language_info": {
   "codemirror_mode": {
    "name": "ipython",
    "version": 2
   },
   "file_extension": ".py",
   "mimetype": "text/x-python",
   "name": "python",
   "nbconvert_exporter": "python",
   "pygments_lexer": "ipython2",
   "version": "2.7.12"
  }
 },
 "nbformat": 4,
 "nbformat_minor": 0
}
